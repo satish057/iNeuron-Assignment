{
 "cells": [
  {
   "cell_type": "markdown",
   "metadata": {},
   "source": [
    "### 1.1 Write a Python Program(with class concepts) to find the area of the triangle using the below formula.\n",
    "area = (s*(s-a)*(s-b)*(s-c)) ** 0.5\n",
    "Function to take the length of the sides of triangle from user should be defined in the parent\n",
    "class and function to calculate the area should be defined in subclass."
   ]
  },
  {
   "cell_type": "code",
   "execution_count": 1,
   "metadata": {},
   "outputs": [],
   "source": [
    "class sizeOfTriangel():\n",
    "    def __init__(self,a,b,c):\n",
    "        self.L1 = a\n",
    "        self.L2 = b\n",
    "        self.L3 = c"
   ]
  },
  {
   "cell_type": "code",
   "execution_count": 2,
   "metadata": {},
   "outputs": [],
   "source": [
    "class Area(sizeOfTriangel):\n",
    "    def __init__(self,*argt):\n",
    "        super(Area,self).__init__(*argt)\n",
    "        self.s=(self.L1+self.L2+self.L3)/2\n",
    "        \n",
    "    def TrArea(self):\n",
    "        return (self.s*(self.s-self.L1)*(self.s-self.L2)*(self.s-self.L3))**0.5"
   ]
  },
  {
   "cell_type": "markdown",
   "metadata": {},
   "source": [
    "class Area(sizeOfTriangel):\n",
    "    def TrArea(self,*argt):\n",
    "        super(Area,self).__init__(*argt)\n",
    "        self.s=(self.L1+self.L2+self.L3)/2\n",
    "        return (self.s*(self.s-self.L1)*(self.s-self.L2)*(self.s-self.L3))**0.5\n",
    "        \n",
    "    #def TrArea(self):\n",
    "        #return (self.s*(self.s-self.L1)*(self.s-self.L2)*(self.s-self.L3))**0.5"
   ]
  },
  {
   "cell_type": "code",
   "execution_count": 3,
   "metadata": {},
   "outputs": [],
   "source": [
    "A=Area(3,4,6)"
   ]
  },
  {
   "cell_type": "code",
   "execution_count": 4,
   "metadata": {},
   "outputs": [
    {
     "data": {
      "text/plain": [
       "5.332682251925386"
      ]
     },
     "execution_count": 4,
     "metadata": {},
     "output_type": "execute_result"
    }
   ],
   "source": [
    "A.TrArea()"
   ]
  },
  {
   "cell_type": "markdown",
   "metadata": {},
   "source": [
    "### 1.2 Write a function filter_long_words() that takes a list of words and an integer n and returns the list of words that are longer than n."
   ]
  },
  {
   "cell_type": "code",
   "execution_count": 49,
   "metadata": {},
   "outputs": [],
   "source": [
    "def filter_long_words(l,n):\n",
    "    l_New=[]\n",
    "    for i in l:\n",
    "        if len(i)>n:\n",
    "            l_New.append(i)\n",
    "    return l_New"
   ]
  },
  {
   "cell_type": "code",
   "execution_count": 50,
   "metadata": {},
   "outputs": [
    {
     "data": {
      "text/plain": [
       "['satish', 'jagdish', 'Amrita', 'Anushka']"
      ]
     },
     "execution_count": 50,
     "metadata": {},
     "output_type": "execute_result"
    }
   ],
   "source": [
    "filter_long_words(['satish','kumar','jaanu','jagdish','Amrita','Anushka','Hik','Herr','Poul'],5)"
   ]
  },
  {
   "cell_type": "markdown",
   "metadata": {},
   "source": [
    "### 2.1 Write a Python program using function concept that maps list of words into a list of integers\n",
    "representing the lengths of the corresponding words.\n",
    "Hint: If a list [ ab,cde,erty] is passed on to the python function output should come as [2,3,4]\n",
    "Here 2,3 and 4 are the lengths of the words in the list."
   ]
  },
  {
   "cell_type": "code",
   "execution_count": 5,
   "metadata": {},
   "outputs": [],
   "source": [
    "def len_Word(l):\n",
    "    wrd_Length=[]\n",
    "    for i in l:\n",
    "        wrd_Length.append(len(i))\n",
    "    return wrd_Length"
   ]
  },
  {
   "cell_type": "code",
   "execution_count": 6,
   "metadata": {},
   "outputs": [
    {
     "data": {
      "text/plain": [
       "[6, 5, 5, 7, 6, 7, 3, 4, 4]"
      ]
     },
     "execution_count": 6,
     "metadata": {},
     "output_type": "execute_result"
    }
   ],
   "source": [
    "l=['satish','kumar','jaanu','jagdish','Amrita','Anushka','Hik','Herr','Poul']\n",
    "len_Word(l)"
   ]
  },
  {
   "cell_type": "markdown",
   "metadata": {},
   "source": [
    "### 2.2 Write a Python function which takes a character (i.e. a string of length 1) and returns True if it is a vowel, False otherwise."
   ]
  },
  {
   "cell_type": "code",
   "execution_count": 7,
   "metadata": {},
   "outputs": [],
   "source": [
    "def Vowel(w):\n",
    "    \n",
    "    if type(w)==int:\n",
    "        return \"Please provide only alphabet\"\n",
    "\n",
    "    elif len(w)>1:\n",
    "        return \"Please provide 1 character word only\"\n",
    "    \n",
    "    elif not ((w>='a' and w<='z') or (w>='A' and w<='Z')):\n",
    "        return 'This is not an alphabet!'\n",
    "    \n",
    "    elif (w.lower() in ['a','e','i','o','u']):\n",
    "        return 'This is Vowel.'\n",
    "    else:\n",
    "        return 'this is not vowel.'\n",
    "    \n",
    "    "
   ]
  },
  {
   "cell_type": "code",
   "execution_count": 11,
   "metadata": {},
   "outputs": [
    {
     "data": {
      "text/plain": [
       "'This is Vowel.'"
      ]
     },
     "execution_count": 11,
     "metadata": {},
     "output_type": "execute_result"
    }
   ],
   "source": [
    "Vowel('O')"
   ]
  },
  {
   "cell_type": "code",
   "execution_count": null,
   "metadata": {},
   "outputs": [],
   "source": []
  }
 ],
 "metadata": {
  "kernelspec": {
   "display_name": "Python 3",
   "language": "python",
   "name": "python3"
  },
  "language_info": {
   "codemirror_mode": {
    "name": "ipython",
    "version": 3
   },
   "file_extension": ".py",
   "mimetype": "text/x-python",
   "name": "python",
   "nbconvert_exporter": "python",
   "pygments_lexer": "ipython3",
   "version": "3.7.4"
  }
 },
 "nbformat": 4,
 "nbformat_minor": 2
}
