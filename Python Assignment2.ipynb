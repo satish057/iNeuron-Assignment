{
 "cells": [
  {
   "cell_type": "code",
   "execution_count": 1,
   "metadata": {},
   "outputs": [],
   "source": [
    "import pandas as pd"
   ]
  },
  {
   "cell_type": "code",
   "execution_count": 36,
   "metadata": {},
   "outputs": [
    {
     "name": "stdout",
     "output_type": "stream",
     "text": [
      "*\n",
      "**\n",
      "***\n",
      "****\n",
      "*****\n",
      "*****\n",
      "****\n",
      "***\n",
      "**\n",
      "*\n"
     ]
    }
   ],
   "source": [
    "# This is for even loop\n",
    "z=3\n",
    "for i in range(1,11):\n",
    "    if i<=5:\n",
    "        print('*'*i)\n",
    "        \n",
    "    elif i==6:\n",
    "        print('*'*(i-1))\n",
    "    else:\n",
    "        print('*'*(i-z))\n",
    "        z=z+2"
   ]
  },
  {
   "cell_type": "code",
   "execution_count": 37,
   "metadata": {},
   "outputs": [
    {
     "name": "stdout",
     "output_type": "stream",
     "text": [
      "*\n",
      "**\n",
      "***\n",
      "****\n",
      "*****\n",
      "****\n",
      "***\n",
      "**\n",
      "*\n"
     ]
    }
   ],
   "source": [
    "# This is for odd loop\n",
    "z=2\n",
    "for i in range(1,10):\n",
    "    if i<=5:\n",
    "        print('*'*i)\n",
    "        \n",
    "    else:\n",
    "        \n",
    "        print('*'*(i-z))\n",
    "\n",
    "        z=z+2"
   ]
  },
  {
   "cell_type": "markdown",
   "metadata": {},
   "source": [
    "Write a Python program to reverse a word after accepting the input from the user."
   ]
  },
  {
   "cell_type": "code",
   "execution_count": 38,
   "metadata": {},
   "outputs": [
    {
     "name": "stdout",
     "output_type": "stream",
     "text": [
      "type wrod :123\n",
      "Output is -  321\n"
     ]
    }
   ],
   "source": [
    "w = input('type wrod :')\n",
    "if len(w)>1:\n",
    "    print('Output is - ', w[::-1])\n",
    "    \n",
    "else:\n",
    "    print('Please provide word with 2 character minimum.')"
   ]
  },
  {
   "cell_type": "code",
   "execution_count": null,
   "metadata": {},
   "outputs": [],
   "source": []
  }
 ],
 "metadata": {
  "kernelspec": {
   "display_name": "Python 3",
   "language": "python",
   "name": "python3"
  },
  "language_info": {
   "codemirror_mode": {
    "name": "ipython",
    "version": 3
   },
   "file_extension": ".py",
   "mimetype": "text/x-python",
   "name": "python",
   "nbconvert_exporter": "python",
   "pygments_lexer": "ipython3",
   "version": "3.7.4"
  }
 },
 "nbformat": 4,
 "nbformat_minor": 2
}
